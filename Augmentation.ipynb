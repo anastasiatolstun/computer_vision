{
 "cells": [
  {
   "cell_type": "markdown",
   "metadata": {},
   "source": [
    "# Курсовая работа по распознаванию спецтехники"
   ]
  },
  {
   "cell_type": "markdown",
   "metadata": {},
   "source": [
    "- Мной были размечаны 600 фотографий самосвалов. Остальные были размечаны моими одногруппниками.\n",
    "- На основе одной картинки произведу аугментацию.\n",
    "- В дальнейшем произведу аугментацию для всех размечанных картинок. \n",
    "- В конечном итоге, картинки пойдут для обучения нашей модели по распознаванию спецтехники."
   ]
  },
  {
   "cell_type": "code",
   "execution_count": null,
   "metadata": {},
   "outputs": [],
   "source": [
    "import cv2\n",
    "import numpy as np\n",
    "from os import listdir\n",
    "from os.path import isfile, join\n",
    "import os\n",
    "import imgaug.augmenters as iaa"
   ]
  },
  {
   "cell_type": "markdown",
   "metadata": {},
   "source": [
    "Загружаем папку."
   ]
  },
  {
   "cell_type": "code",
   "execution_count": null,
   "metadata": {},
   "outputs": [],
   "source": [
    "mypath='/Users/anastasiatolstun/Desktop/курсовая-диплом/samosval'\n",
    "onlyfiles = [ f for f in listdir(mypath) if isfile(join(mypath,f)) ]\n",
    "images = np.empty(len(onlyfiles), dtype=object)\n",
    "for n in range(0, len(onlyfiles)):\n",
    "    images[n] = cv2.imread( join(mypath,onlyfiles[n]) )"
   ]
  },
  {
   "cell_type": "markdown",
   "metadata": {},
   "source": [
    "Функция для просмотра картинок:"
   ]
  },
  {
   "cell_type": "code",
   "execution_count": null,
   "metadata": {},
   "outputs": [],
   "source": [
    "def viewImage(image, name_of_window):\n",
    "    cv2.namedWindow(name_of_window, cv2.WINDOW_NORMAL)\n",
    "    cv2.imshow(name_of_window, image)\n",
    "    cv2.waitKey(0)\n",
    "    cv2.destroyAllWindows()"
   ]
  },
  {
   "cell_type": "markdown",
   "metadata": {},
   "source": [
    "### Аугментация картинок с сохранением их в отдельную папку"
   ]
  },
  {
   "cell_type": "markdown",
   "metadata": {},
   "source": [
    "Далее аугментирем картинки, сохранив их в отдельную папку."
   ]
  },
  {
   "cell_type": "code",
   "execution_count": null,
   "metadata": {},
   "outputs": [],
   "source": [
    "for n in range(0, len(onlyfiles)):\n",
    "    image_n = n + 1\n",
    "    ####Расширение выборки с помощью поворота на 5 градусов\n",
    "    rotated_1 = rotated_11(images[n])\n",
    "    name = 'rotated_1'\n",
    "    image_name = name + str(image_n) + '.jpg'\n",
    "    image_path = r'augmented_samosval/' + image_name\n",
    "    cv2.imwrite(image_path, rotated_1) \n",
    "    ####Расширение выборки с помощью поворота на 10 градусов\n",
    "    rotated_2 = rotated_22(images[n])\n",
    "    name = 'rotated_2'\n",
    "    image_name = name + str(image_n) + '.jpg'\n",
    "    image_path = r'augmented_samosval/' + image_name\n",
    "    cv2.imwrite(image_path, rotated_2)\n",
    "    ####Расширение выборки с помощью изменения цвета в серый\n",
    "    gray_1_image = gray_11(images[n])\n",
    "    name = 'gray_1_image'\n",
    "    image_name = name + str(image_n) + '.jpg'\n",
    "    image_path = r'augmented_samosval/' + image_name\n",
    "    cv2.imwrite(image_path, gray_1_image)\n",
    "    gray_2_image = gray_11(images[n])\n",
    "    name = 'gray_2_image'\n",
    "    image_name = name + str(image_n) + '.jpg'\n",
    "    image_path = r'augmented_samosval/' + image_name\n",
    "    cv2.imwrite(image_path, gray_2_image)\n",
    "    ####Расширение выборки с помощью размытия\n",
    "    blurred_1 = blurred_11(images[n])\n",
    "    name = 'blurred_1'\n",
    "    image_name = name + str(image_n) + '.jpg'\n",
    "    image_path = r'augmented_samosval/' + image_name\n",
    "    cv2.imwrite(image_path, blurred_1)\n",
    "    blurred_2 = blurred_22(images[n])\n",
    "    name = 'blurred_2'\n",
    "    image_name = name + str(image_n) + '.jpg'\n",
    "    image_path = r'augmented_samosval/' + image_name\n",
    "    cv2.imwrite(image_path, blurred_2)\n",
    "    ####Расширение выборки с помощью насыщенности и тона\n",
    "    hued_image = hued(images[n])\n",
    "    name = 'hued_image'\n",
    "    image_name = name + str(image_n) + '.jpg'\n",
    "    image_path = r'augmented_samosval/' + image_name\n",
    "    cv2.imwrite(image_path, hued_image)\n",
    "    ####Расширение выборки с помощью осветления\n",
    "    bright_image = bright(images[n])\n",
    "    name = 'bright_image'\n",
    "    image_name = name + str(image_n) + '.jpg'\n",
    "    image_path = r'augmented_samosval/' + image_name\n",
    "    cv2.imwrite(image_path, bright_image)\n",
    "    ###Расширение выборки с помощью размытия, поворота и осветления\n",
    "    all_image_1 = bright(rotated_22(blurred_11(images[n])))\n",
    "    name = 'all_image_1'\n",
    "    image_name = name + str(image_n) + '.jpg'\n",
    "    image_path = r'augmented_samosval/' + image_name\n",
    "    cv2.imwrite(image_path, all_image_1)\n",
    "    ####Расширение выборки с помощью насыщенности и тона и размытия\n",
    "    all_image_2 = blurred_11(hued(images[n]))\n",
    "    name = 'all_image_2'\n",
    "    image_name = name + str(image_n) + '.jpg'\n",
    "    image_path = r'augmented_samosval/' + image_name\n",
    "    cv2.imwrite(image_path, all_image_2)\n",
    "    ####Расширение выборки с помощью AdditiveGaussianNoise\n",
    "    noise = noise_1(images[n])\n",
    "    name = 'noise'\n",
    "    image_name = name + str(image_n) + '.jpg'\n",
    "    image_path = r'augmented_samosval/' + image_name\n",
    "    cv2.imwrite(image_path, noise)"
   ]
  },
  {
   "cell_type": "markdown",
   "metadata": {},
   "source": [
    "## Функции"
   ]
  },
  {
   "cell_type": "markdown",
   "metadata": {},
   "source": [
    "### Расширение выборки с помощью кадрирования картинки"
   ]
  },
  {
   "cell_type": "code",
   "execution_count": null,
   "metadata": {},
   "outputs": [],
   "source": [
    "def cropped(image):\n",
    "    cropped = image[200:700, 200:1000]\n",
    "    return cropped"
   ]
  },
  {
   "cell_type": "code",
   "execution_count": null,
   "metadata": {},
   "outputs": [],
   "source": [
    "#image_name = 'rotated_1' + n + '.jpg'\n",
    "#image_path = r'augmented_samosval/' + image_name\n",
    "#cv2.imwrite(image_path, cropped(images[0]))"
   ]
  },
  {
   "cell_type": "markdown",
   "metadata": {},
   "source": [
    "### Расширение выборки с помощью поворота на 5 и 9 градусов"
   ]
  },
  {
   "cell_type": "code",
   "execution_count": null,
   "metadata": {},
   "outputs": [],
   "source": [
    "def rotated_11(image):\n",
    "    (h, w, d) = image.shape\n",
    "    center = (w // 2, h // 2)\n",
    "    M = cv2.getRotationMatrix2D(center, 5, 1.0)\n",
    "    rotated_1_ = cv2.warpAffine(image, M, (w, h))\n",
    "    return rotated_1_\n",
    "#viewImage(rotated_1, \"warpaffine\")"
   ]
  },
  {
   "cell_type": "code",
   "execution_count": null,
   "metadata": {},
   "outputs": [],
   "source": [
    "def rotated_22(image):\n",
    "    (h, w, d) = image.shape\n",
    "    center = (w // 2, h // 2)\n",
    "    M = cv2.getRotationMatrix2D(center, 10, 1.0)\n",
    "    rotated_2 = cv2.warpAffine(image, M, (w, h))\n",
    "    return rotated_2\n",
    "#viewImage(rotated_2, \"warpaffine\")"
   ]
  },
  {
   "cell_type": "markdown",
   "metadata": {},
   "source": [
    "### Расширение выборки с помощью изменения цвета в серый"
   ]
  },
  {
   "cell_type": "code",
   "execution_count": null,
   "metadata": {},
   "outputs": [],
   "source": [
    "def gray_11(image):\n",
    "    gray_1_image = cv2.cvtColor(image, cv2.COLOR_RGB2GRAY)\n",
    "    ret, threshold_image = cv2.threshold(gray_1_image, 127, 180, 0)\n",
    "    return gray_1_image\n",
    "#viewImage(gray_1_image, \"grayscale_1\")"
   ]
  },
  {
   "cell_type": "code",
   "execution_count": null,
   "metadata": {},
   "outputs": [],
   "source": [
    "def gray_22(image):\n",
    "    gray_2_image = cv2.cvtColor(image, cv2.COLOR_RGB2GRAY)\n",
    "    ret, threshold_image = cv2.threshold(gray_2_image, 127, 250, 0)\n",
    "    return gray_2_image\n",
    "#viewImage(gray_2_image, \"grayscale_2\")"
   ]
  },
  {
   "cell_type": "markdown",
   "metadata": {},
   "source": [
    "### Размытие"
   ]
  },
  {
   "cell_type": "code",
   "execution_count": null,
   "metadata": {},
   "outputs": [],
   "source": [
    "def blurred_11(image):\n",
    "    blurred_1 = cv2.GaussianBlur(image, (25,25), 0)\n",
    "    return blurred_1\n",
    "#viewImage(blurred_1, \"blurred_1\")"
   ]
  },
  {
   "cell_type": "code",
   "execution_count": null,
   "metadata": {},
   "outputs": [],
   "source": [
    "def blurred_22(image):\n",
    "    blurred_2 = cv2.GaussianBlur(image, (15,15), 0)\n",
    "    return blurred_2\n",
    "#viewImage(blurred_2, \"blurred_2\")"
   ]
  },
  {
   "cell_type": "markdown",
   "metadata": {},
   "source": [
    "### Насыщенность и тон"
   ]
  },
  {
   "cell_type": "code",
   "execution_count": null,
   "metadata": {},
   "outputs": [],
   "source": [
    "def hued(image):\n",
    "    hsv = cv2.cvtColor(image, cv2.COLOR_BGR2HSV)\n",
    "    h, s, v = cv2.split(hsv)\n",
    "    h += 15 # 4\n",
    "    s += 60 # 5\n",
    "    final_hsv = cv2.merge((h, s, v))\n",
    "    hued_image = cv2.cvtColor(final_hsv, cv2.COLOR_HSV2RGB)\n",
    "    return hued_image\n",
    "#viewImage(hued_image, \"hue_image\")"
   ]
  },
  {
   "cell_type": "markdown",
   "metadata": {},
   "source": [
    "### Осветленность"
   ]
  },
  {
   "cell_type": "code",
   "execution_count": null,
   "metadata": {},
   "outputs": [],
   "source": [
    "def bright(image):\n",
    "    brightness = 60\n",
    "    contrast = 30\n",
    "    bright_image = np.int16(image)\n",
    "    bright_image = bright_image * (contrast/127+1) - contrast + brightness\n",
    "    bright_image = np.clip(bright_image, 0, 255)\n",
    "    bright_image = np.uint8(bright_image)\n",
    "    return bright_image\n",
    "#viewImage(bright_image, \"bright_image\")"
   ]
  },
  {
   "cell_type": "markdown",
   "metadata": {},
   "source": [
    "### AdditiveGaussianNoise"
   ]
  },
  {
   "cell_type": "code",
   "execution_count": null,
   "metadata": {},
   "outputs": [],
   "source": [
    "def noise_1(image):\n",
    "    img = image\n",
    "    aug = iaa.AdditiveGaussianNoise(scale=(0, 0.4*255))\n",
    "    noise = aug(image=img)\n",
    "    return noise"
   ]
  },
  {
   "cell_type": "markdown",
   "metadata": {},
   "source": [
    "## Вывод:  \n",
    "Увеличили выборку в 11 раз."
   ]
  }
 ],
 "metadata": {
  "kernelspec": {
   "display_name": "Python 3",
   "language": "python",
   "name": "python3"
  },
  "language_info": {
   "codemirror_mode": {
    "name": "ipython",
    "version": 3
   },
   "file_extension": ".py",
   "mimetype": "text/x-python",
   "name": "python",
   "nbconvert_exporter": "python",
   "pygments_lexer": "ipython3",
   "version": "3.8.3"
  }
 },
 "nbformat": 4,
 "nbformat_minor": 4
}
